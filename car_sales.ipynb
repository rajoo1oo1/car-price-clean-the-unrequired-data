{
  "nbformat": 4,
  "nbformat_minor": 0,
  "metadata": {
    "colab": {
      "provenance": []
    },
    "kernelspec": {
      "name": "python3",
      "display_name": "Python 3"
    },
    "language_info": {
      "name": "python"
    }
  },
  "cells": [
    {
      "cell_type": "code",
      "execution_count": 32,
      "metadata": {
        "id": "bXYvOldeoCSj"
      },
      "outputs": [],
      "source": [
        "#importing the required libraries\n",
        "import pandas as pd\n",
        "import numpy as np\n",
        "import seaborn as sns\n",
        "import matplotlib.pyplot as plt\n",
        "from sklearn.model_selection import train_test_split\n",
        "from sklearn.linear_model import LinearRegression"
      ]
    },
    {
      "cell_type": "code",
      "source": [
        "#loading the datasets\n",
        "df = pd.read_csv('/content/car_price.csv')\n",
        "df.head()"
      ],
      "metadata": {
        "colab": {
          "base_uri": "https://localhost:8080/",
          "height": 451
        },
        "id": "3pdwzyq8pu9W",
        "outputId": "c9d68a0f-0c9d-431d-ab74-a576cffdbc51"
      },
      "execution_count": null,
      "outputs": [
        {
          "output_type": "execute_result",
          "data": {
            "text/plain": [
              "   Unnamed: 0                                car_name car_prices_in_rupee  \\\n",
              "0           0  Jeep Compass 2.0 Longitude Option BSIV          10.03 Lakh   \n",
              "1           1            Renault Duster RXZ Turbo CVT          12.83 Lakh   \n",
              "2           2                      Toyota Camry 2.5 G          16.40 Lakh   \n",
              "3           3                       Honda Jazz VX CVT           7.77 Lakh   \n",
              "4           4        Volkswagen Polo 1.2 MPI Highline           5.15 Lakh   \n",
              "\n",
              "   kms_driven fuel_type transmission  ownership  manufacture   engine    Seats  \n",
              "0  86,226 kms    Diesel       Manual  1st Owner         2017  1956 cc  5 Seats  \n",
              "1  13,248 kms    Petrol    Automatic  1st Owner         2021  1330 cc  5 Seats  \n",
              "2  60,343 kms    Petrol    Automatic  1st Owner         2016  2494 cc  5 Seats  \n",
              "3  26,696 kms    Petrol    Automatic  1st Owner         2018  1199 cc  5 Seats  \n",
              "4  69,414 kms    Petrol       Manual  1st Owner         2016  1199 cc  5 Seats  "
            ],
            "text/html": [
              "\n",
              "  <div id=\"df-ab7a14e2-e846-4a5e-b0a2-7a2d7f132f47\" class=\"colab-df-container\">\n",
              "    <div>\n",
              "<style scoped>\n",
              "    .dataframe tbody tr th:only-of-type {\n",
              "        vertical-align: middle;\n",
              "    }\n",
              "\n",
              "    .dataframe tbody tr th {\n",
              "        vertical-align: top;\n",
              "    }\n",
              "\n",
              "    .dataframe thead th {\n",
              "        text-align: right;\n",
              "    }\n",
              "</style>\n",
              "<table border=\"1\" class=\"dataframe\">\n",
              "  <thead>\n",
              "    <tr style=\"text-align: right;\">\n",
              "      <th></th>\n",
              "      <th>Unnamed: 0</th>\n",
              "      <th>car_name</th>\n",
              "      <th>car_prices_in_rupee</th>\n",
              "      <th>kms_driven</th>\n",
              "      <th>fuel_type</th>\n",
              "      <th>transmission</th>\n",
              "      <th>ownership</th>\n",
              "      <th>manufacture</th>\n",
              "      <th>engine</th>\n",
              "      <th>Seats</th>\n",
              "    </tr>\n",
              "  </thead>\n",
              "  <tbody>\n",
              "    <tr>\n",
              "      <th>0</th>\n",
              "      <td>0</td>\n",
              "      <td>Jeep Compass 2.0 Longitude Option BSIV</td>\n",
              "      <td>10.03 Lakh</td>\n",
              "      <td>86,226 kms</td>\n",
              "      <td>Diesel</td>\n",
              "      <td>Manual</td>\n",
              "      <td>1st Owner</td>\n",
              "      <td>2017</td>\n",
              "      <td>1956 cc</td>\n",
              "      <td>5 Seats</td>\n",
              "    </tr>\n",
              "    <tr>\n",
              "      <th>1</th>\n",
              "      <td>1</td>\n",
              "      <td>Renault Duster RXZ Turbo CVT</td>\n",
              "      <td>12.83 Lakh</td>\n",
              "      <td>13,248 kms</td>\n",
              "      <td>Petrol</td>\n",
              "      <td>Automatic</td>\n",
              "      <td>1st Owner</td>\n",
              "      <td>2021</td>\n",
              "      <td>1330 cc</td>\n",
              "      <td>5 Seats</td>\n",
              "    </tr>\n",
              "    <tr>\n",
              "      <th>2</th>\n",
              "      <td>2</td>\n",
              "      <td>Toyota Camry 2.5 G</td>\n",
              "      <td>16.40 Lakh</td>\n",
              "      <td>60,343 kms</td>\n",
              "      <td>Petrol</td>\n",
              "      <td>Automatic</td>\n",
              "      <td>1st Owner</td>\n",
              "      <td>2016</td>\n",
              "      <td>2494 cc</td>\n",
              "      <td>5 Seats</td>\n",
              "    </tr>\n",
              "    <tr>\n",
              "      <th>3</th>\n",
              "      <td>3</td>\n",
              "      <td>Honda Jazz VX CVT</td>\n",
              "      <td>7.77 Lakh</td>\n",
              "      <td>26,696 kms</td>\n",
              "      <td>Petrol</td>\n",
              "      <td>Automatic</td>\n",
              "      <td>1st Owner</td>\n",
              "      <td>2018</td>\n",
              "      <td>1199 cc</td>\n",
              "      <td>5 Seats</td>\n",
              "    </tr>\n",
              "    <tr>\n",
              "      <th>4</th>\n",
              "      <td>4</td>\n",
              "      <td>Volkswagen Polo 1.2 MPI Highline</td>\n",
              "      <td>5.15 Lakh</td>\n",
              "      <td>69,414 kms</td>\n",
              "      <td>Petrol</td>\n",
              "      <td>Manual</td>\n",
              "      <td>1st Owner</td>\n",
              "      <td>2016</td>\n",
              "      <td>1199 cc</td>\n",
              "      <td>5 Seats</td>\n",
              "    </tr>\n",
              "  </tbody>\n",
              "</table>\n",
              "</div>\n",
              "    <div class=\"colab-df-buttons\">\n",
              "\n",
              "  <div class=\"colab-df-container\">\n",
              "    <button class=\"colab-df-convert\" onclick=\"convertToInteractive('df-ab7a14e2-e846-4a5e-b0a2-7a2d7f132f47')\"\n",
              "            title=\"Convert this dataframe to an interactive table.\"\n",
              "            style=\"display:none;\">\n",
              "\n",
              "  <svg xmlns=\"http://www.w3.org/2000/svg\" height=\"24px\" viewBox=\"0 -960 960 960\">\n",
              "    <path d=\"M120-120v-720h720v720H120Zm60-500h600v-160H180v160Zm220 220h160v-160H400v160Zm0 220h160v-160H400v160ZM180-400h160v-160H180v160Zm440 0h160v-160H620v160ZM180-180h160v-160H180v160Zm440 0h160v-160H620v160Z\"/>\n",
              "  </svg>\n",
              "    </button>\n",
              "\n",
              "  <style>\n",
              "    .colab-df-container {\n",
              "      display:flex;\n",
              "      gap: 12px;\n",
              "    }\n",
              "\n",
              "    .colab-df-convert {\n",
              "      background-color: #E8F0FE;\n",
              "      border: none;\n",
              "      border-radius: 50%;\n",
              "      cursor: pointer;\n",
              "      display: none;\n",
              "      fill: #1967D2;\n",
              "      height: 32px;\n",
              "      padding: 0 0 0 0;\n",
              "      width: 32px;\n",
              "    }\n",
              "\n",
              "    .colab-df-convert:hover {\n",
              "      background-color: #E2EBFA;\n",
              "      box-shadow: 0px 1px 2px rgba(60, 64, 67, 0.3), 0px 1px 3px 1px rgba(60, 64, 67, 0.15);\n",
              "      fill: #174EA6;\n",
              "    }\n",
              "\n",
              "    .colab-df-buttons div {\n",
              "      margin-bottom: 4px;\n",
              "    }\n",
              "\n",
              "    [theme=dark] .colab-df-convert {\n",
              "      background-color: #3B4455;\n",
              "      fill: #D2E3FC;\n",
              "    }\n",
              "\n",
              "    [theme=dark] .colab-df-convert:hover {\n",
              "      background-color: #434B5C;\n",
              "      box-shadow: 0px 1px 3px 1px rgba(0, 0, 0, 0.15);\n",
              "      filter: drop-shadow(0px 1px 2px rgba(0, 0, 0, 0.3));\n",
              "      fill: #FFFFFF;\n",
              "    }\n",
              "  </style>\n",
              "\n",
              "    <script>\n",
              "      const buttonEl =\n",
              "        document.querySelector('#df-ab7a14e2-e846-4a5e-b0a2-7a2d7f132f47 button.colab-df-convert');\n",
              "      buttonEl.style.display =\n",
              "        google.colab.kernel.accessAllowed ? 'block' : 'none';\n",
              "\n",
              "      async function convertToInteractive(key) {\n",
              "        const element = document.querySelector('#df-ab7a14e2-e846-4a5e-b0a2-7a2d7f132f47');\n",
              "        const dataTable =\n",
              "          await google.colab.kernel.invokeFunction('convertToInteractive',\n",
              "                                                    [key], {});\n",
              "        if (!dataTable) return;\n",
              "\n",
              "        const docLinkHtml = 'Like what you see? Visit the ' +\n",
              "          '<a target=\"_blank\" href=https://colab.research.google.com/notebooks/data_table.ipynb>data table notebook</a>'\n",
              "          + ' to learn more about interactive tables.';\n",
              "        element.innerHTML = '';\n",
              "        dataTable['output_type'] = 'display_data';\n",
              "        await google.colab.output.renderOutput(dataTable, element);\n",
              "        const docLink = document.createElement('div');\n",
              "        docLink.innerHTML = docLinkHtml;\n",
              "        element.appendChild(docLink);\n",
              "      }\n",
              "    </script>\n",
              "  </div>\n",
              "\n",
              "\n",
              "<div id=\"df-94ab1a77-db07-4ae5-91e2-35a472cb8e1c\">\n",
              "  <button class=\"colab-df-quickchart\" onclick=\"quickchart('df-94ab1a77-db07-4ae5-91e2-35a472cb8e1c')\"\n",
              "            title=\"Suggest charts\"\n",
              "            style=\"display:none;\">\n",
              "\n",
              "<svg xmlns=\"http://www.w3.org/2000/svg\" height=\"24px\"viewBox=\"0 0 24 24\"\n",
              "     width=\"24px\">\n",
              "    <g>\n",
              "        <path d=\"M19 3H5c-1.1 0-2 .9-2 2v14c0 1.1.9 2 2 2h14c1.1 0 2-.9 2-2V5c0-1.1-.9-2-2-2zM9 17H7v-7h2v7zm4 0h-2V7h2v10zm4 0h-2v-4h2v4z\"/>\n",
              "    </g>\n",
              "</svg>\n",
              "  </button>\n",
              "\n",
              "<style>\n",
              "  .colab-df-quickchart {\n",
              "      --bg-color: #E8F0FE;\n",
              "      --fill-color: #1967D2;\n",
              "      --hover-bg-color: #E2EBFA;\n",
              "      --hover-fill-color: #174EA6;\n",
              "      --disabled-fill-color: #AAA;\n",
              "      --disabled-bg-color: #DDD;\n",
              "  }\n",
              "\n",
              "  [theme=dark] .colab-df-quickchart {\n",
              "      --bg-color: #3B4455;\n",
              "      --fill-color: #D2E3FC;\n",
              "      --hover-bg-color: #434B5C;\n",
              "      --hover-fill-color: #FFFFFF;\n",
              "      --disabled-bg-color: #3B4455;\n",
              "      --disabled-fill-color: #666;\n",
              "  }\n",
              "\n",
              "  .colab-df-quickchart {\n",
              "    background-color: var(--bg-color);\n",
              "    border: none;\n",
              "    border-radius: 50%;\n",
              "    cursor: pointer;\n",
              "    display: none;\n",
              "    fill: var(--fill-color);\n",
              "    height: 32px;\n",
              "    padding: 0;\n",
              "    width: 32px;\n",
              "  }\n",
              "\n",
              "  .colab-df-quickchart:hover {\n",
              "    background-color: var(--hover-bg-color);\n",
              "    box-shadow: 0 1px 2px rgba(60, 64, 67, 0.3), 0 1px 3px 1px rgba(60, 64, 67, 0.15);\n",
              "    fill: var(--button-hover-fill-color);\n",
              "  }\n",
              "\n",
              "  .colab-df-quickchart-complete:disabled,\n",
              "  .colab-df-quickchart-complete:disabled:hover {\n",
              "    background-color: var(--disabled-bg-color);\n",
              "    fill: var(--disabled-fill-color);\n",
              "    box-shadow: none;\n",
              "  }\n",
              "\n",
              "  .colab-df-spinner {\n",
              "    border: 2px solid var(--fill-color);\n",
              "    border-color: transparent;\n",
              "    border-bottom-color: var(--fill-color);\n",
              "    animation:\n",
              "      spin 1s steps(1) infinite;\n",
              "  }\n",
              "\n",
              "  @keyframes spin {\n",
              "    0% {\n",
              "      border-color: transparent;\n",
              "      border-bottom-color: var(--fill-color);\n",
              "      border-left-color: var(--fill-color);\n",
              "    }\n",
              "    20% {\n",
              "      border-color: transparent;\n",
              "      border-left-color: var(--fill-color);\n",
              "      border-top-color: var(--fill-color);\n",
              "    }\n",
              "    30% {\n",
              "      border-color: transparent;\n",
              "      border-left-color: var(--fill-color);\n",
              "      border-top-color: var(--fill-color);\n",
              "      border-right-color: var(--fill-color);\n",
              "    }\n",
              "    40% {\n",
              "      border-color: transparent;\n",
              "      border-right-color: var(--fill-color);\n",
              "      border-top-color: var(--fill-color);\n",
              "    }\n",
              "    60% {\n",
              "      border-color: transparent;\n",
              "      border-right-color: var(--fill-color);\n",
              "    }\n",
              "    80% {\n",
              "      border-color: transparent;\n",
              "      border-right-color: var(--fill-color);\n",
              "      border-bottom-color: var(--fill-color);\n",
              "    }\n",
              "    90% {\n",
              "      border-color: transparent;\n",
              "      border-bottom-color: var(--fill-color);\n",
              "    }\n",
              "  }\n",
              "</style>\n",
              "\n",
              "  <script>\n",
              "    async function quickchart(key) {\n",
              "      const quickchartButtonEl =\n",
              "        document.querySelector('#' + key + ' button');\n",
              "      quickchartButtonEl.disabled = true;  // To prevent multiple clicks.\n",
              "      quickchartButtonEl.classList.add('colab-df-spinner');\n",
              "      try {\n",
              "        const charts = await google.colab.kernel.invokeFunction(\n",
              "            'suggestCharts', [key], {});\n",
              "      } catch (error) {\n",
              "        console.error('Error during call to suggestCharts:', error);\n",
              "      }\n",
              "      quickchartButtonEl.classList.remove('colab-df-spinner');\n",
              "      quickchartButtonEl.classList.add('colab-df-quickchart-complete');\n",
              "    }\n",
              "    (() => {\n",
              "      let quickchartButtonEl =\n",
              "        document.querySelector('#df-94ab1a77-db07-4ae5-91e2-35a472cb8e1c button');\n",
              "      quickchartButtonEl.style.display =\n",
              "        google.colab.kernel.accessAllowed ? 'block' : 'none';\n",
              "    })();\n",
              "  </script>\n",
              "</div>\n",
              "\n",
              "    </div>\n",
              "  </div>\n"
            ],
            "application/vnd.google.colaboratory.intrinsic+json": {
              "type": "dataframe",
              "variable_name": "df",
              "summary": "{\n  \"name\": \"df\",\n  \"rows\": 5512,\n  \"fields\": [\n    {\n      \"column\": \"Unnamed: 0\",\n      \"properties\": {\n        \"dtype\": \"number\",\n        \"std\": 1591,\n        \"min\": 0,\n        \"max\": 5511,\n        \"num_unique_values\": 5512,\n        \"samples\": [\n          5013,\n          4462,\n          79\n        ],\n        \"semantic_type\": \"\",\n        \"description\": \"\"\n      }\n    },\n    {\n      \"column\": \"car_name\",\n      \"properties\": {\n        \"dtype\": \"category\",\n        \"num_unique_values\": 1896,\n        \"samples\": [\n          \"Ford Ecosport 1.5 Petrol Titanium BSIV\",\n          \"Jaguar XF 2.0 Petrol Prestige\",\n          \"Mahindra Scorpio EX\"\n        ],\n        \"semantic_type\": \"\",\n        \"description\": \"\"\n      }\n    },\n    {\n      \"column\": \"car_prices_in_rupee\",\n      \"properties\": {\n        \"dtype\": \"category\",\n        \"num_unique_values\": 1300,\n        \"samples\": [\n          \"46 Lakh\",\n          \"50 Lakh\",\n          \"5.30 Lakh\"\n        ],\n        \"semantic_type\": \"\",\n        \"description\": \"\"\n      }\n    },\n    {\n      \"column\": \"kms_driven\",\n      \"properties\": {\n        \"dtype\": \"category\",\n        \"num_unique_values\": 2610,\n        \"samples\": [\n          \"7,046 kms\",\n          \"1,21,908 kms\",\n          \"73,029 kms\"\n        ],\n        \"semantic_type\": \"\",\n        \"description\": \"\"\n      }\n    },\n    {\n      \"column\": \"fuel_type\",\n      \"properties\": {\n        \"dtype\": \"category\",\n        \"num_unique_values\": 5,\n        \"samples\": [\n          \"Petrol\",\n          \"Lpg\",\n          \"Cng\"\n        ],\n        \"semantic_type\": \"\",\n        \"description\": \"\"\n      }\n    },\n    {\n      \"column\": \"transmission\",\n      \"properties\": {\n        \"dtype\": \"category\",\n        \"num_unique_values\": 2,\n        \"samples\": [\n          \"Automatic\",\n          \"Manual\"\n        ],\n        \"semantic_type\": \"\",\n        \"description\": \"\"\n      }\n    },\n    {\n      \"column\": \"ownership\",\n      \"properties\": {\n        \"dtype\": \"category\",\n        \"num_unique_values\": 6,\n        \"samples\": [\n          \"1st Owner\",\n          \"2nd Owner\"\n        ],\n        \"semantic_type\": \"\",\n        \"description\": \"\"\n      }\n    },\n    {\n      \"column\": \"manufacture\",\n      \"properties\": {\n        \"dtype\": \"number\",\n        \"std\": 3,\n        \"min\": 1995,\n        \"max\": 2022,\n        \"num_unique_values\": 26,\n        \"samples\": [\n          2012,\n          2011\n        ],\n        \"semantic_type\": \"\",\n        \"description\": \"\"\n      }\n    },\n    {\n      \"column\": \"engine\",\n      \"properties\": {\n        \"dtype\": \"category\",\n        \"num_unique_values\": 139,\n        \"samples\": [\n          \"3200 cc\",\n          \"2477 cc\"\n        ],\n        \"semantic_type\": \"\",\n        \"description\": \"\"\n      }\n    },\n    {\n      \"column\": \"Seats\",\n      \"properties\": {\n        \"dtype\": \"category\",\n        \"num_unique_values\": 6,\n        \"samples\": [\n          \"5 Seats\",\n          \"6 Seats\"\n        ],\n        \"semantic_type\": \"\",\n        \"description\": \"\"\n      }\n    }\n  ]\n}"
            }
          },
          "metadata": {},
          "execution_count": 3
        }
      ]
    },
    {
      "cell_type": "code",
      "source": [
        "#to analysis  the data\n",
        "df.describe()"
      ],
      "metadata": {
        "colab": {
          "base_uri": "https://localhost:8080/",
          "height": 300
        },
        "id": "AAkiK9s7qYtk",
        "outputId": "d6481fe8-c1f5-47f8-ccf2-4d12093a13ad"
      },
      "execution_count": null,
      "outputs": [
        {
          "output_type": "execute_result",
          "data": {
            "text/plain": [
              "        Unnamed: 0  manufacture\n",
              "count  5512.000000  5512.000000\n",
              "mean   2755.500000  2015.455552\n",
              "std    1591.321673     3.927974\n",
              "min       0.000000  1995.000000\n",
              "25%    1377.750000  2013.000000\n",
              "50%    2755.500000  2016.000000\n",
              "75%    4133.250000  2018.000000\n",
              "max    5511.000000  2022.000000"
            ],
            "text/html": [
              "\n",
              "  <div id=\"df-d4485365-79a2-4019-a010-56d2c751957e\" class=\"colab-df-container\">\n",
              "    <div>\n",
              "<style scoped>\n",
              "    .dataframe tbody tr th:only-of-type {\n",
              "        vertical-align: middle;\n",
              "    }\n",
              "\n",
              "    .dataframe tbody tr th {\n",
              "        vertical-align: top;\n",
              "    }\n",
              "\n",
              "    .dataframe thead th {\n",
              "        text-align: right;\n",
              "    }\n",
              "</style>\n",
              "<table border=\"1\" class=\"dataframe\">\n",
              "  <thead>\n",
              "    <tr style=\"text-align: right;\">\n",
              "      <th></th>\n",
              "      <th>Unnamed: 0</th>\n",
              "      <th>manufacture</th>\n",
              "    </tr>\n",
              "  </thead>\n",
              "  <tbody>\n",
              "    <tr>\n",
              "      <th>count</th>\n",
              "      <td>5512.000000</td>\n",
              "      <td>5512.000000</td>\n",
              "    </tr>\n",
              "    <tr>\n",
              "      <th>mean</th>\n",
              "      <td>2755.500000</td>\n",
              "      <td>2015.455552</td>\n",
              "    </tr>\n",
              "    <tr>\n",
              "      <th>std</th>\n",
              "      <td>1591.321673</td>\n",
              "      <td>3.927974</td>\n",
              "    </tr>\n",
              "    <tr>\n",
              "      <th>min</th>\n",
              "      <td>0.000000</td>\n",
              "      <td>1995.000000</td>\n",
              "    </tr>\n",
              "    <tr>\n",
              "      <th>25%</th>\n",
              "      <td>1377.750000</td>\n",
              "      <td>2013.000000</td>\n",
              "    </tr>\n",
              "    <tr>\n",
              "      <th>50%</th>\n",
              "      <td>2755.500000</td>\n",
              "      <td>2016.000000</td>\n",
              "    </tr>\n",
              "    <tr>\n",
              "      <th>75%</th>\n",
              "      <td>4133.250000</td>\n",
              "      <td>2018.000000</td>\n",
              "    </tr>\n",
              "    <tr>\n",
              "      <th>max</th>\n",
              "      <td>5511.000000</td>\n",
              "      <td>2022.000000</td>\n",
              "    </tr>\n",
              "  </tbody>\n",
              "</table>\n",
              "</div>\n",
              "    <div class=\"colab-df-buttons\">\n",
              "\n",
              "  <div class=\"colab-df-container\">\n",
              "    <button class=\"colab-df-convert\" onclick=\"convertToInteractive('df-d4485365-79a2-4019-a010-56d2c751957e')\"\n",
              "            title=\"Convert this dataframe to an interactive table.\"\n",
              "            style=\"display:none;\">\n",
              "\n",
              "  <svg xmlns=\"http://www.w3.org/2000/svg\" height=\"24px\" viewBox=\"0 -960 960 960\">\n",
              "    <path d=\"M120-120v-720h720v720H120Zm60-500h600v-160H180v160Zm220 220h160v-160H400v160Zm0 220h160v-160H400v160ZM180-400h160v-160H180v160Zm440 0h160v-160H620v160ZM180-180h160v-160H180v160Zm440 0h160v-160H620v160Z\"/>\n",
              "  </svg>\n",
              "    </button>\n",
              "\n",
              "  <style>\n",
              "    .colab-df-container {\n",
              "      display:flex;\n",
              "      gap: 12px;\n",
              "    }\n",
              "\n",
              "    .colab-df-convert {\n",
              "      background-color: #E8F0FE;\n",
              "      border: none;\n",
              "      border-radius: 50%;\n",
              "      cursor: pointer;\n",
              "      display: none;\n",
              "      fill: #1967D2;\n",
              "      height: 32px;\n",
              "      padding: 0 0 0 0;\n",
              "      width: 32px;\n",
              "    }\n",
              "\n",
              "    .colab-df-convert:hover {\n",
              "      background-color: #E2EBFA;\n",
              "      box-shadow: 0px 1px 2px rgba(60, 64, 67, 0.3), 0px 1px 3px 1px rgba(60, 64, 67, 0.15);\n",
              "      fill: #174EA6;\n",
              "    }\n",
              "\n",
              "    .colab-df-buttons div {\n",
              "      margin-bottom: 4px;\n",
              "    }\n",
              "\n",
              "    [theme=dark] .colab-df-convert {\n",
              "      background-color: #3B4455;\n",
              "      fill: #D2E3FC;\n",
              "    }\n",
              "\n",
              "    [theme=dark] .colab-df-convert:hover {\n",
              "      background-color: #434B5C;\n",
              "      box-shadow: 0px 1px 3px 1px rgba(0, 0, 0, 0.15);\n",
              "      filter: drop-shadow(0px 1px 2px rgba(0, 0, 0, 0.3));\n",
              "      fill: #FFFFFF;\n",
              "    }\n",
              "  </style>\n",
              "\n",
              "    <script>\n",
              "      const buttonEl =\n",
              "        document.querySelector('#df-d4485365-79a2-4019-a010-56d2c751957e button.colab-df-convert');\n",
              "      buttonEl.style.display =\n",
              "        google.colab.kernel.accessAllowed ? 'block' : 'none';\n",
              "\n",
              "      async function convertToInteractive(key) {\n",
              "        const element = document.querySelector('#df-d4485365-79a2-4019-a010-56d2c751957e');\n",
              "        const dataTable =\n",
              "          await google.colab.kernel.invokeFunction('convertToInteractive',\n",
              "                                                    [key], {});\n",
              "        if (!dataTable) return;\n",
              "\n",
              "        const docLinkHtml = 'Like what you see? Visit the ' +\n",
              "          '<a target=\"_blank\" href=https://colab.research.google.com/notebooks/data_table.ipynb>data table notebook</a>'\n",
              "          + ' to learn more about interactive tables.';\n",
              "        element.innerHTML = '';\n",
              "        dataTable['output_type'] = 'display_data';\n",
              "        await google.colab.output.renderOutput(dataTable, element);\n",
              "        const docLink = document.createElement('div');\n",
              "        docLink.innerHTML = docLinkHtml;\n",
              "        element.appendChild(docLink);\n",
              "      }\n",
              "    </script>\n",
              "  </div>\n",
              "\n",
              "\n",
              "<div id=\"df-f650d7a0-ed01-4dcc-bed0-8666d48ed6c9\">\n",
              "  <button class=\"colab-df-quickchart\" onclick=\"quickchart('df-f650d7a0-ed01-4dcc-bed0-8666d48ed6c9')\"\n",
              "            title=\"Suggest charts\"\n",
              "            style=\"display:none;\">\n",
              "\n",
              "<svg xmlns=\"http://www.w3.org/2000/svg\" height=\"24px\"viewBox=\"0 0 24 24\"\n",
              "     width=\"24px\">\n",
              "    <g>\n",
              "        <path d=\"M19 3H5c-1.1 0-2 .9-2 2v14c0 1.1.9 2 2 2h14c1.1 0 2-.9 2-2V5c0-1.1-.9-2-2-2zM9 17H7v-7h2v7zm4 0h-2V7h2v10zm4 0h-2v-4h2v4z\"/>\n",
              "    </g>\n",
              "</svg>\n",
              "  </button>\n",
              "\n",
              "<style>\n",
              "  .colab-df-quickchart {\n",
              "      --bg-color: #E8F0FE;\n",
              "      --fill-color: #1967D2;\n",
              "      --hover-bg-color: #E2EBFA;\n",
              "      --hover-fill-color: #174EA6;\n",
              "      --disabled-fill-color: #AAA;\n",
              "      --disabled-bg-color: #DDD;\n",
              "  }\n",
              "\n",
              "  [theme=dark] .colab-df-quickchart {\n",
              "      --bg-color: #3B4455;\n",
              "      --fill-color: #D2E3FC;\n",
              "      --hover-bg-color: #434B5C;\n",
              "      --hover-fill-color: #FFFFFF;\n",
              "      --disabled-bg-color: #3B4455;\n",
              "      --disabled-fill-color: #666;\n",
              "  }\n",
              "\n",
              "  .colab-df-quickchart {\n",
              "    background-color: var(--bg-color);\n",
              "    border: none;\n",
              "    border-radius: 50%;\n",
              "    cursor: pointer;\n",
              "    display: none;\n",
              "    fill: var(--fill-color);\n",
              "    height: 32px;\n",
              "    padding: 0;\n",
              "    width: 32px;\n",
              "  }\n",
              "\n",
              "  .colab-df-quickchart:hover {\n",
              "    background-color: var(--hover-bg-color);\n",
              "    box-shadow: 0 1px 2px rgba(60, 64, 67, 0.3), 0 1px 3px 1px rgba(60, 64, 67, 0.15);\n",
              "    fill: var(--button-hover-fill-color);\n",
              "  }\n",
              "\n",
              "  .colab-df-quickchart-complete:disabled,\n",
              "  .colab-df-quickchart-complete:disabled:hover {\n",
              "    background-color: var(--disabled-bg-color);\n",
              "    fill: var(--disabled-fill-color);\n",
              "    box-shadow: none;\n",
              "  }\n",
              "\n",
              "  .colab-df-spinner {\n",
              "    border: 2px solid var(--fill-color);\n",
              "    border-color: transparent;\n",
              "    border-bottom-color: var(--fill-color);\n",
              "    animation:\n",
              "      spin 1s steps(1) infinite;\n",
              "  }\n",
              "\n",
              "  @keyframes spin {\n",
              "    0% {\n",
              "      border-color: transparent;\n",
              "      border-bottom-color: var(--fill-color);\n",
              "      border-left-color: var(--fill-color);\n",
              "    }\n",
              "    20% {\n",
              "      border-color: transparent;\n",
              "      border-left-color: var(--fill-color);\n",
              "      border-top-color: var(--fill-color);\n",
              "    }\n",
              "    30% {\n",
              "      border-color: transparent;\n",
              "      border-left-color: var(--fill-color);\n",
              "      border-top-color: var(--fill-color);\n",
              "      border-right-color: var(--fill-color);\n",
              "    }\n",
              "    40% {\n",
              "      border-color: transparent;\n",
              "      border-right-color: var(--fill-color);\n",
              "      border-top-color: var(--fill-color);\n",
              "    }\n",
              "    60% {\n",
              "      border-color: transparent;\n",
              "      border-right-color: var(--fill-color);\n",
              "    }\n",
              "    80% {\n",
              "      border-color: transparent;\n",
              "      border-right-color: var(--fill-color);\n",
              "      border-bottom-color: var(--fill-color);\n",
              "    }\n",
              "    90% {\n",
              "      border-color: transparent;\n",
              "      border-bottom-color: var(--fill-color);\n",
              "    }\n",
              "  }\n",
              "</style>\n",
              "\n",
              "  <script>\n",
              "    async function quickchart(key) {\n",
              "      const quickchartButtonEl =\n",
              "        document.querySelector('#' + key + ' button');\n",
              "      quickchartButtonEl.disabled = true;  // To prevent multiple clicks.\n",
              "      quickchartButtonEl.classList.add('colab-df-spinner');\n",
              "      try {\n",
              "        const charts = await google.colab.kernel.invokeFunction(\n",
              "            'suggestCharts', [key], {});\n",
              "      } catch (error) {\n",
              "        console.error('Error during call to suggestCharts:', error);\n",
              "      }\n",
              "      quickchartButtonEl.classList.remove('colab-df-spinner');\n",
              "      quickchartButtonEl.classList.add('colab-df-quickchart-complete');\n",
              "    }\n",
              "    (() => {\n",
              "      let quickchartButtonEl =\n",
              "        document.querySelector('#df-f650d7a0-ed01-4dcc-bed0-8666d48ed6c9 button');\n",
              "      quickchartButtonEl.style.display =\n",
              "        google.colab.kernel.accessAllowed ? 'block' : 'none';\n",
              "    })();\n",
              "  </script>\n",
              "</div>\n",
              "\n",
              "    </div>\n",
              "  </div>\n"
            ],
            "application/vnd.google.colaboratory.intrinsic+json": {
              "type": "dataframe",
              "summary": "{\n  \"name\": \"df\",\n  \"rows\": 8,\n  \"fields\": [\n    {\n      \"column\": \"Unnamed: 0\",\n      \"properties\": {\n        \"dtype\": \"number\",\n        \"std\": 1986.3325147301425,\n        \"min\": 0.0,\n        \"max\": 5512.0,\n        \"num_unique_values\": 7,\n        \"samples\": [\n          5512.0,\n          2755.5,\n          4133.25\n        ],\n        \"semantic_type\": \"\",\n        \"description\": \"\"\n      }\n    },\n    {\n      \"column\": \"manufacture\",\n      \"properties\": {\n        \"dtype\": \"number\",\n        \"std\": 1511.9423804490011,\n        \"min\": 3.927974063529577,\n        \"max\": 5512.0,\n        \"num_unique_values\": 8,\n        \"samples\": [\n          2015.4555515239479,\n          2016.0,\n          5512.0\n        ],\n        \"semantic_type\": \"\",\n        \"description\": \"\"\n      }\n    }\n  ]\n}"
            }
          },
          "metadata": {},
          "execution_count": 4
        }
      ]
    },
    {
      "cell_type": "code",
      "source": [
        "#total rows and columns\n",
        "df.shape"
      ],
      "metadata": {
        "colab": {
          "base_uri": "https://localhost:8080/"
        },
        "id": "B0gM8CAbrbCA",
        "outputId": "9e7f5307-d1bd-4e89-a4b6-25b5ce2355cc"
      },
      "execution_count": null,
      "outputs": [
        {
          "output_type": "execute_result",
          "data": {
            "text/plain": [
              "(5512, 10)"
            ]
          },
          "metadata": {},
          "execution_count": 5
        }
      ]
    },
    {
      "cell_type": "code",
      "source": [
        "df.info()"
      ],
      "metadata": {
        "colab": {
          "base_uri": "https://localhost:8080/"
        },
        "id": "r1lEBEwCsot_",
        "outputId": "884cf104-7ccd-41e5-b482-f284e9072ef6"
      },
      "execution_count": null,
      "outputs": [
        {
          "output_type": "stream",
          "name": "stdout",
          "text": [
            "<class 'pandas.core.frame.DataFrame'>\n",
            "RangeIndex: 5512 entries, 0 to 5511\n",
            "Data columns (total 10 columns):\n",
            " #   Column               Non-Null Count  Dtype \n",
            "---  ------               --------------  ----- \n",
            " 0   Unnamed: 0           5512 non-null   int64 \n",
            " 1   car_name             5512 non-null   object\n",
            " 2   car_prices_in_rupee  5512 non-null   object\n",
            " 3   kms_driven           5512 non-null   object\n",
            " 4   fuel_type            5512 non-null   object\n",
            " 5   transmission         5512 non-null   object\n",
            " 6   ownership            5512 non-null   object\n",
            " 7   manufacture          5512 non-null   int64 \n",
            " 8   engine               5512 non-null   object\n",
            " 9   Seats                5512 non-null   object\n",
            "dtypes: int64(2), object(8)\n",
            "memory usage: 430.8+ KB\n"
          ]
        }
      ]
    },
    {
      "cell_type": "code",
      "source": [
        "df.manufacture.unique()"
      ],
      "metadata": {
        "id": "OvBboIyrt6w7"
      },
      "execution_count": null,
      "outputs": []
    },
    {
      "cell_type": "code",
      "source": [
        "df.car_prices_in_rupee.unique()"
      ],
      "metadata": {
        "colab": {
          "base_uri": "https://localhost:8080/"
        },
        "id": "ezjadoTPupyv",
        "outputId": "c8f692da-2683-4ecf-d554-38e1226e1f1e"
      },
      "execution_count": null,
      "outputs": [
        {
          "output_type": "execute_result",
          "data": {
            "text/plain": [
              "array(['10.03 Lakh', '12.83 Lakh', '16.40 Lakh', ..., '28.90 Lakh',\n",
              "       '64.90 Lakh', '31.90 Lakh'], dtype=object)"
            ]
          },
          "metadata": {},
          "execution_count": 8
        }
      ]
    },
    {
      "cell_type": "code",
      "source": [
        "df.kms_driven.unique()"
      ],
      "metadata": {
        "colab": {
          "base_uri": "https://localhost:8080/"
        },
        "id": "jEskASdAvLcH",
        "outputId": "8e634e2c-6c91-4db2-e8ed-a06932eddfe9"
      },
      "execution_count": null,
      "outputs": [
        {
          "output_type": "execute_result",
          "data": {
            "text/plain": [
              "array(['86,226 kms', '13,248 kms', '60,343 kms', ..., '1,54,000 kms',\n",
              "       '79,718 kms', '85,002 kms'], dtype=object)"
            ]
          },
          "metadata": {},
          "execution_count": 9
        }
      ]
    },
    {
      "cell_type": "code",
      "source": [
        "df.engine.unique()"
      ],
      "metadata": {
        "colab": {
          "base_uri": "https://localhost:8080/"
        },
        "id": "n4tRxe_svTVg",
        "outputId": "dc437019-1f0a-4ea7-a57f-e35f69d4cd45"
      },
      "execution_count": null,
      "outputs": [
        {
          "output_type": "execute_result",
          "data": {
            "text/plain": [
              "array(['1956 cc', '1330 cc', '2494 cc', '1199 cc', '1197 cc', '1498 cc',\n",
              "       '1497 cc', '1368 cc', '1396 cc', '1373 cc', '1198 cc', '1462 cc',\n",
              "       '799 cc', '998 cc', '1591 cc', '1999 cc', '999 cc', '814 cc',\n",
              "       '796 cc', '1353 cc', '1451 cc', '1995 cc', '1991 cc', '2179 cc',\n",
              "       '1798 cc', '1985 cc', '1968 cc', '2993 cc', '4134 cc', '1598 cc',\n",
              "       '936 cc', '1248 cc', '2143 cc', '1086 cc', '1998 cc', '2198 cc',\n",
              "       '2499 cc', '1496 cc', '1186 cc', '1582 cc', '1984 cc', '1997 cc',\n",
              "       '1969 cc', '1493 cc', '2755 cc', '1196 cc', '2953 cc', '2184 cc',\n",
              "       '1461 cc', '2987 cc', '1950 cc', '1395 cc', '2523 cc', '1193 cc',\n",
              "       '1061 cc', '1298 cc', '1586 cc', '993 cc', '2354 cc', '1405 cc',\n",
              "       '2967 cc', '0 cc', '2694 cc', '2696 cc', '2609 cc', '2998 cc',\n",
              "       '2477 cc', '2393 cc', '2982 cc', '2199 cc', '1799 cc', '3198 cc',\n",
              "       '1194 cc', '2997 cc', '1495 cc', '1794 cc', '2498 cc', '1364 cc',\n",
              "       '1388 cc', '2596 cc', '1173 cc', '1797 cc', '1499 cc', '1399 cc',\n",
              "       '4461 cc', '2400 cc', '1896 cc', '1796 cc', '3956 cc', '995 cc',\n",
              "       '2995 cc', '2487 cc', '624 cc', '1993 cc', '2925 cc', '1599 cc',\n",
              "       '1299 cc', '1120 cc', '2489 cc', '5461 cc', '3996 cc', '1595 cc',\n",
              "       '4367 cc', '1996 cc', '5950 cc', '2996 cc', '4663 cc', '1150 cc',\n",
              "       '2359 cc', '1422 cc', '1242 cc', '2698 cc', '2999 cc', '2894 cc',\n",
              "       '2360 cc', '5000 cc', '2835 cc', '1596 cc', '1047 cc', '2446 cc',\n",
              "       '909 cc', '2197 cc', '1527 cc', '1398 cc', '2994 cc', '2956 cc',\n",
              "       '1781 cc', '2497 cc', '1172 cc', '793 cc', '1341 cc', '1390 cc',\n",
              "       '1590 cc', '2157 cc', '3598 cc', '3200 cc', '3498 cc', '1332 cc',\n",
              "       '2979 cc'], dtype=object)"
            ]
          },
          "metadata": {},
          "execution_count": 10
        }
      ]
    },
    {
      "cell_type": "code",
      "source": [
        "df.Seats.unique()"
      ],
      "metadata": {
        "colab": {
          "base_uri": "https://localhost:8080/"
        },
        "id": "owdRdvu_voUt",
        "outputId": "b191a26d-e138-4679-928a-a8497701dd6e"
      },
      "execution_count": null,
      "outputs": [
        {
          "output_type": "execute_result",
          "data": {
            "text/plain": [
              "array(['5 Seats', '6 Seats', '7 Seats', '4 Seats', '8 Seats', '2 Seats'],\n",
              "      dtype=object)"
            ]
          },
          "metadata": {},
          "execution_count": 11
        }
      ]
    },
    {
      "cell_type": "code",
      "source": [
        "df.fuel_type.unique()"
      ],
      "metadata": {
        "colab": {
          "base_uri": "https://localhost:8080/"
        },
        "id": "4RaBJ5vav0vr",
        "outputId": "7b18a813-876b-4b0c-befc-8b33b5a8b442"
      },
      "execution_count": null,
      "outputs": [
        {
          "output_type": "execute_result",
          "data": {
            "text/plain": [
              "array(['Diesel', 'Petrol', 'Cng', 'Electric', 'Lpg'], dtype=object)"
            ]
          },
          "metadata": {},
          "execution_count": 12
        }
      ]
    },
    {
      "cell_type": "code",
      "source": [
        "# Preprocessing\n",
        "backup = df.copy()"
      ],
      "metadata": {
        "id": "4OF7NYvLwHW2"
      },
      "execution_count": null,
      "outputs": []
    },
    {
      "cell_type": "code",
      "source": [
        "#cleaning the car prices\n",
        "car = df[df['car_prices_in_rupee'] != \"Ask For Price\"]"
      ],
      "metadata": {
        "id": "t-vlCQ3qwmrs"
      },
      "execution_count": null,
      "outputs": []
    },
    {
      "cell_type": "code",
      "source": [
        "df.car_prices_in_rupee.head()"
      ],
      "metadata": {
        "colab": {
          "base_uri": "https://localhost:8080/"
        },
        "id": "uu-bWHsixHgF",
        "outputId": "6e66af18-eead-446f-ff85-325b5c4ec086"
      },
      "execution_count": 43,
      "outputs": [
        {
          "output_type": "execute_result",
          "data": {
            "text/plain": [
              "46    43\n",
              "47     6\n",
              "48    27\n",
              "57    14\n",
              "58    15\n",
              "Name: car_prices_in_rupee, dtype: int64"
            ]
          },
          "metadata": {},
          "execution_count": 43
        }
      ]
    },
    {
      "cell_type": "code",
      "source": [
        "df['car_prices_in_rupee'] = df['car_prices_in_rupee'].str.replace('[^0-9.]', '', regex=True)"
      ],
      "metadata": {
        "id": "nfXgZNk518vg"
      },
      "execution_count": null,
      "outputs": []
    },
    {
      "cell_type": "code",
      "source": [
        "df.car_prices_in_rupee"
      ],
      "metadata": {
        "colab": {
          "base_uri": "https://localhost:8080/"
        },
        "id": "GPdioD3fwlVm",
        "outputId": "d99fd471-98f8-4ea7-f195-1825a4c68a87"
      },
      "execution_count": 45,
      "outputs": [
        {
          "output_type": "execute_result",
          "data": {
            "text/plain": [
              "46      43\n",
              "47       6\n",
              "48      27\n",
              "57      14\n",
              "58      15\n",
              "        ..\n",
              "5475    62\n",
              "5478    53\n",
              "5479    67\n",
              "5485    42\n",
              "5487    44\n",
              "Name: car_prices_in_rupee, Length: 830, dtype: int64"
            ]
          },
          "metadata": {},
          "execution_count": 45
        }
      ]
    },
    {
      "cell_type": "code",
      "source": [
        "df['car_prices_in_rupee'] = df['car_prices_in_rupee'].astype(int)"
      ],
      "metadata": {
        "id": "1gB6HbMQtJXB"
      },
      "execution_count": 46,
      "outputs": []
    },
    {
      "cell_type": "code",
      "source": [
        "df.info()"
      ],
      "metadata": {
        "colab": {
          "base_uri": "https://localhost:8080/"
        },
        "id": "Ulz9gJSKtS76",
        "outputId": "644dabd1-44f7-47eb-cbac-ca0d20e987f3"
      },
      "execution_count": 39,
      "outputs": [
        {
          "output_type": "stream",
          "name": "stdout",
          "text": [
            "<class 'pandas.core.frame.DataFrame'>\n",
            "Index: 830 entries, 46 to 5487\n",
            "Data columns (total 10 columns):\n",
            " #   Column               Non-Null Count  Dtype \n",
            "---  ------               --------------  ----- \n",
            " 0   Unnamed: 0           830 non-null    int64 \n",
            " 1   car_name             830 non-null    object\n",
            " 2   car_prices_in_rupee  830 non-null    int64 \n",
            " 3   kms_driven           830 non-null    object\n",
            " 4   fuel_type            830 non-null    object\n",
            " 5   transmission         830 non-null    object\n",
            " 6   ownership            830 non-null    object\n",
            " 7   manufacture          830 non-null    int64 \n",
            " 8   engine               830 non-null    object\n",
            " 9   Seats                830 non-null    object\n",
            "dtypes: int64(3), object(7)\n",
            "memory usage: 71.3+ KB\n"
          ]
        }
      ]
    },
    {
      "cell_type": "code",
      "source": [
        "df = df[df['car_prices_in_rupee'].str.isdigit()]\n",
        "df.car_prices_in_rupee.head()"
      ],
      "metadata": {
        "colab": {
          "base_uri": "https://localhost:8080/"
        },
        "id": "cQxN7xBWxYWj",
        "outputId": "da200971-cd54-417e-c8d0-f2f4d34cb133"
      },
      "execution_count": null,
      "outputs": [
        {
          "output_type": "execute_result",
          "data": {
            "text/plain": [
              "46    43\n",
              "47     6\n",
              "48    27\n",
              "57    14\n",
              "58    15\n",
              "Name: car_prices_in_rupee, dtype: object"
            ]
          },
          "metadata": {},
          "execution_count": 17
        }
      ]
    },
    {
      "cell_type": "code",
      "source": [
        "df['kms_driven'].str.split(' ').str.get(0).str.replace(',','')"
      ],
      "metadata": {
        "colab": {
          "base_uri": "https://localhost:8080/"
        },
        "id": "qetCwJtgxin6",
        "outputId": "b1dcb4cc-8b84-4329-c3a4-b1b5ab27262e"
      },
      "execution_count": 50,
      "outputs": [
        {
          "output_type": "execute_result",
          "data": {
            "text/plain": [
              "46       61000\n",
              "47       65392\n",
              "48       37000\n",
              "57       50000\n",
              "58      105241\n",
              "         ...  \n",
              "5475     17000\n",
              "5478      9000\n",
              "5479      9000\n",
              "5485      3000\n",
              "5487     44000\n",
              "Name: kms_driven, Length: 830, dtype: object"
            ]
          },
          "metadata": {},
          "execution_count": 50
        }
      ]
    },
    {
      "cell_type": "code",
      "source": [
        "df['kms_driven'] = df['kms_driven'].astype(int)"
      ],
      "metadata": {
        "id": "i2ZoFUOUx28z"
      },
      "execution_count": 53,
      "outputs": []
    },
    {
      "cell_type": "code",
      "source": [],
      "metadata": {
        "id": "gUiVQH0Ty7BA"
      },
      "execution_count": null,
      "outputs": []
    },
    {
      "cell_type": "code",
      "source": [
        "df['car_name'].str.split(' ').str.slice(0,3).str.join(' ')"
      ],
      "metadata": {
        "colab": {
          "base_uri": "https://localhost:8080/"
        },
        "id": "7yZXQgUayNz2",
        "outputId": "2b800f84-1bc0-4e71-e497-2c4bee5d4d37"
      },
      "execution_count": 62,
      "outputs": [
        {
          "output_type": "execute_result",
          "data": {
            "text/plain": [
              "46                         BMW 5 Series\n",
              "47                      Hyundai i20 1.4\n",
              "48                Mercedes-Benz CLA 200\n",
              "57                     Jeep Compass 1.4\n",
              "58                        Volvo XC60 D4\n",
              "                     ...               \n",
              "5475              Mercedes-Benz GLC 200\n",
              "5478            Mercedes-Benz C-Class C\n",
              "5479             Jaguar F-Pace Prestige\n",
              "5485    Mercedes-Benz A-Class Limousine\n",
              "5487    Mercedes-Benz E-Class Exclusive\n",
              "Name: car_name, Length: 830, dtype: object"
            ]
          },
          "metadata": {},
          "execution_count": 62
        }
      ]
    },
    {
      "cell_type": "code",
      "source": [
        "df.reset_index(drop = True)"
      ],
      "metadata": {
        "colab": {
          "base_uri": "https://localhost:8080/",
          "height": 614
        },
        "id": "6Su_KesVzZdp",
        "outputId": "0f32afba-2b68-405c-a35b-f40d3a126ceb"
      },
      "execution_count": 64,
      "outputs": [
        {
          "output_type": "execute_result",
          "data": {
            "text/plain": [
              "     Unnamed: 0                                      car_name  \\\n",
              "0            46                 BMW 5 Series 520d Luxury Line   \n",
              "1            47               Hyundai i20 1.4 Magna Executive   \n",
              "2            48               Mercedes-Benz CLA 200 CGI Sport   \n",
              "3            57                        Jeep Compass 1.4 Sport   \n",
              "4            58                          Volvo XC60 D4 Summum   \n",
              "..          ...                                           ...   \n",
              "825        5475                         Mercedes-Benz GLC 200   \n",
              "826        5478                  Mercedes-Benz C-Class C 220d   \n",
              "827        5479             Jaguar F-Pace Prestige 2.0 Petrol   \n",
              "828        5485         Mercedes-Benz A-Class Limousine A 200   \n",
              "829        5487  Mercedes-Benz E-Class Exclusive E 220 d BSIV   \n",
              "\n",
              "     car_prices_in_rupee  kms_driven fuel_type transmission  ownership  \\\n",
              "0                     43       61000    Diesel    Automatic  1st Owner   \n",
              "1                      6       65392    Diesel       Manual  1st Owner   \n",
              "2                     27       37000    Petrol    Automatic  1st Owner   \n",
              "3                     14       50000    Petrol       Manual  1st Owner   \n",
              "4                     15      105241    Diesel    Automatic  1st Owner   \n",
              "..                   ...         ...       ...          ...        ...   \n",
              "825                   62       17000    Petrol    Automatic  1st Owner   \n",
              "826                   53        9000    Diesel    Automatic  0th Owner   \n",
              "827                   67        9000    Petrol    Automatic  1st Owner   \n",
              "828                   42        3000    Petrol    Automatic  1st Owner   \n",
              "829                   44       44000    Diesel    Automatic  1st Owner   \n",
              "\n",
              "     manufacture   engine    Seats  \n",
              "0           2019  1995 cc  5 Seats  \n",
              "1           2017  1396 cc  5 Seats  \n",
              "2           2018  1991 cc  5 Seats  \n",
              "3           2018  1368 cc  5 Seats  \n",
              "4           2015  1985 cc  5 Seats  \n",
              "..           ...      ...      ...  \n",
              "825         2021  3996 cc  4 Seats  \n",
              "826         2022  1462 cc  5 Seats  \n",
              "827         2021  1950 cc  7 Seats  \n",
              "828         2022  1999 cc  5 Seats  \n",
              "829         2017  2694 cc  5 Seats  \n",
              "\n",
              "[830 rows x 10 columns]"
            ],
            "text/html": [
              "\n",
              "  <div id=\"df-0b76b9d7-918b-4bac-958c-08024b05d9a1\" class=\"colab-df-container\">\n",
              "    <div>\n",
              "<style scoped>\n",
              "    .dataframe tbody tr th:only-of-type {\n",
              "        vertical-align: middle;\n",
              "    }\n",
              "\n",
              "    .dataframe tbody tr th {\n",
              "        vertical-align: top;\n",
              "    }\n",
              "\n",
              "    .dataframe thead th {\n",
              "        text-align: right;\n",
              "    }\n",
              "</style>\n",
              "<table border=\"1\" class=\"dataframe\">\n",
              "  <thead>\n",
              "    <tr style=\"text-align: right;\">\n",
              "      <th></th>\n",
              "      <th>Unnamed: 0</th>\n",
              "      <th>car_name</th>\n",
              "      <th>car_prices_in_rupee</th>\n",
              "      <th>kms_driven</th>\n",
              "      <th>fuel_type</th>\n",
              "      <th>transmission</th>\n",
              "      <th>ownership</th>\n",
              "      <th>manufacture</th>\n",
              "      <th>engine</th>\n",
              "      <th>Seats</th>\n",
              "    </tr>\n",
              "  </thead>\n",
              "  <tbody>\n",
              "    <tr>\n",
              "      <th>0</th>\n",
              "      <td>46</td>\n",
              "      <td>BMW 5 Series 520d Luxury Line</td>\n",
              "      <td>43</td>\n",
              "      <td>61000</td>\n",
              "      <td>Diesel</td>\n",
              "      <td>Automatic</td>\n",
              "      <td>1st Owner</td>\n",
              "      <td>2019</td>\n",
              "      <td>1995 cc</td>\n",
              "      <td>5 Seats</td>\n",
              "    </tr>\n",
              "    <tr>\n",
              "      <th>1</th>\n",
              "      <td>47</td>\n",
              "      <td>Hyundai i20 1.4 Magna Executive</td>\n",
              "      <td>6</td>\n",
              "      <td>65392</td>\n",
              "      <td>Diesel</td>\n",
              "      <td>Manual</td>\n",
              "      <td>1st Owner</td>\n",
              "      <td>2017</td>\n",
              "      <td>1396 cc</td>\n",
              "      <td>5 Seats</td>\n",
              "    </tr>\n",
              "    <tr>\n",
              "      <th>2</th>\n",
              "      <td>48</td>\n",
              "      <td>Mercedes-Benz CLA 200 CGI Sport</td>\n",
              "      <td>27</td>\n",
              "      <td>37000</td>\n",
              "      <td>Petrol</td>\n",
              "      <td>Automatic</td>\n",
              "      <td>1st Owner</td>\n",
              "      <td>2018</td>\n",
              "      <td>1991 cc</td>\n",
              "      <td>5 Seats</td>\n",
              "    </tr>\n",
              "    <tr>\n",
              "      <th>3</th>\n",
              "      <td>57</td>\n",
              "      <td>Jeep Compass 1.4 Sport</td>\n",
              "      <td>14</td>\n",
              "      <td>50000</td>\n",
              "      <td>Petrol</td>\n",
              "      <td>Manual</td>\n",
              "      <td>1st Owner</td>\n",
              "      <td>2018</td>\n",
              "      <td>1368 cc</td>\n",
              "      <td>5 Seats</td>\n",
              "    </tr>\n",
              "    <tr>\n",
              "      <th>4</th>\n",
              "      <td>58</td>\n",
              "      <td>Volvo XC60 D4 Summum</td>\n",
              "      <td>15</td>\n",
              "      <td>105241</td>\n",
              "      <td>Diesel</td>\n",
              "      <td>Automatic</td>\n",
              "      <td>1st Owner</td>\n",
              "      <td>2015</td>\n",
              "      <td>1985 cc</td>\n",
              "      <td>5 Seats</td>\n",
              "    </tr>\n",
              "    <tr>\n",
              "      <th>...</th>\n",
              "      <td>...</td>\n",
              "      <td>...</td>\n",
              "      <td>...</td>\n",
              "      <td>...</td>\n",
              "      <td>...</td>\n",
              "      <td>...</td>\n",
              "      <td>...</td>\n",
              "      <td>...</td>\n",
              "      <td>...</td>\n",
              "      <td>...</td>\n",
              "    </tr>\n",
              "    <tr>\n",
              "      <th>825</th>\n",
              "      <td>5475</td>\n",
              "      <td>Mercedes-Benz GLC 200</td>\n",
              "      <td>62</td>\n",
              "      <td>17000</td>\n",
              "      <td>Petrol</td>\n",
              "      <td>Automatic</td>\n",
              "      <td>1st Owner</td>\n",
              "      <td>2021</td>\n",
              "      <td>3996 cc</td>\n",
              "      <td>4 Seats</td>\n",
              "    </tr>\n",
              "    <tr>\n",
              "      <th>826</th>\n",
              "      <td>5478</td>\n",
              "      <td>Mercedes-Benz C-Class C 220d</td>\n",
              "      <td>53</td>\n",
              "      <td>9000</td>\n",
              "      <td>Diesel</td>\n",
              "      <td>Automatic</td>\n",
              "      <td>0th Owner</td>\n",
              "      <td>2022</td>\n",
              "      <td>1462 cc</td>\n",
              "      <td>5 Seats</td>\n",
              "    </tr>\n",
              "    <tr>\n",
              "      <th>827</th>\n",
              "      <td>5479</td>\n",
              "      <td>Jaguar F-Pace Prestige 2.0 Petrol</td>\n",
              "      <td>67</td>\n",
              "      <td>9000</td>\n",
              "      <td>Petrol</td>\n",
              "      <td>Automatic</td>\n",
              "      <td>1st Owner</td>\n",
              "      <td>2021</td>\n",
              "      <td>1950 cc</td>\n",
              "      <td>7 Seats</td>\n",
              "    </tr>\n",
              "    <tr>\n",
              "      <th>828</th>\n",
              "      <td>5485</td>\n",
              "      <td>Mercedes-Benz A-Class Limousine A 200</td>\n",
              "      <td>42</td>\n",
              "      <td>3000</td>\n",
              "      <td>Petrol</td>\n",
              "      <td>Automatic</td>\n",
              "      <td>1st Owner</td>\n",
              "      <td>2022</td>\n",
              "      <td>1999 cc</td>\n",
              "      <td>5 Seats</td>\n",
              "    </tr>\n",
              "    <tr>\n",
              "      <th>829</th>\n",
              "      <td>5487</td>\n",
              "      <td>Mercedes-Benz E-Class Exclusive E 220 d BSIV</td>\n",
              "      <td>44</td>\n",
              "      <td>44000</td>\n",
              "      <td>Diesel</td>\n",
              "      <td>Automatic</td>\n",
              "      <td>1st Owner</td>\n",
              "      <td>2017</td>\n",
              "      <td>2694 cc</td>\n",
              "      <td>5 Seats</td>\n",
              "    </tr>\n",
              "  </tbody>\n",
              "</table>\n",
              "<p>830 rows × 10 columns</p>\n",
              "</div>\n",
              "    <div class=\"colab-df-buttons\">\n",
              "\n",
              "  <div class=\"colab-df-container\">\n",
              "    <button class=\"colab-df-convert\" onclick=\"convertToInteractive('df-0b76b9d7-918b-4bac-958c-08024b05d9a1')\"\n",
              "            title=\"Convert this dataframe to an interactive table.\"\n",
              "            style=\"display:none;\">\n",
              "\n",
              "  <svg xmlns=\"http://www.w3.org/2000/svg\" height=\"24px\" viewBox=\"0 -960 960 960\">\n",
              "    <path d=\"M120-120v-720h720v720H120Zm60-500h600v-160H180v160Zm220 220h160v-160H400v160Zm0 220h160v-160H400v160ZM180-400h160v-160H180v160Zm440 0h160v-160H620v160ZM180-180h160v-160H180v160Zm440 0h160v-160H620v160Z\"/>\n",
              "  </svg>\n",
              "    </button>\n",
              "\n",
              "  <style>\n",
              "    .colab-df-container {\n",
              "      display:flex;\n",
              "      gap: 12px;\n",
              "    }\n",
              "\n",
              "    .colab-df-convert {\n",
              "      background-color: #E8F0FE;\n",
              "      border: none;\n",
              "      border-radius: 50%;\n",
              "      cursor: pointer;\n",
              "      display: none;\n",
              "      fill: #1967D2;\n",
              "      height: 32px;\n",
              "      padding: 0 0 0 0;\n",
              "      width: 32px;\n",
              "    }\n",
              "\n",
              "    .colab-df-convert:hover {\n",
              "      background-color: #E2EBFA;\n",
              "      box-shadow: 0px 1px 2px rgba(60, 64, 67, 0.3), 0px 1px 3px 1px rgba(60, 64, 67, 0.15);\n",
              "      fill: #174EA6;\n",
              "    }\n",
              "\n",
              "    .colab-df-buttons div {\n",
              "      margin-bottom: 4px;\n",
              "    }\n",
              "\n",
              "    [theme=dark] .colab-df-convert {\n",
              "      background-color: #3B4455;\n",
              "      fill: #D2E3FC;\n",
              "    }\n",
              "\n",
              "    [theme=dark] .colab-df-convert:hover {\n",
              "      background-color: #434B5C;\n",
              "      box-shadow: 0px 1px 3px 1px rgba(0, 0, 0, 0.15);\n",
              "      filter: drop-shadow(0px 1px 2px rgba(0, 0, 0, 0.3));\n",
              "      fill: #FFFFFF;\n",
              "    }\n",
              "  </style>\n",
              "\n",
              "    <script>\n",
              "      const buttonEl =\n",
              "        document.querySelector('#df-0b76b9d7-918b-4bac-958c-08024b05d9a1 button.colab-df-convert');\n",
              "      buttonEl.style.display =\n",
              "        google.colab.kernel.accessAllowed ? 'block' : 'none';\n",
              "\n",
              "      async function convertToInteractive(key) {\n",
              "        const element = document.querySelector('#df-0b76b9d7-918b-4bac-958c-08024b05d9a1');\n",
              "        const dataTable =\n",
              "          await google.colab.kernel.invokeFunction('convertToInteractive',\n",
              "                                                    [key], {});\n",
              "        if (!dataTable) return;\n",
              "\n",
              "        const docLinkHtml = 'Like what you see? Visit the ' +\n",
              "          '<a target=\"_blank\" href=https://colab.research.google.com/notebooks/data_table.ipynb>data table notebook</a>'\n",
              "          + ' to learn more about interactive tables.';\n",
              "        element.innerHTML = '';\n",
              "        dataTable['output_type'] = 'display_data';\n",
              "        await google.colab.output.renderOutput(dataTable, element);\n",
              "        const docLink = document.createElement('div');\n",
              "        docLink.innerHTML = docLinkHtml;\n",
              "        element.appendChild(docLink);\n",
              "      }\n",
              "    </script>\n",
              "  </div>\n",
              "\n",
              "\n",
              "<div id=\"df-8d872e6d-fda4-4da7-84c8-9fcb99ca186f\">\n",
              "  <button class=\"colab-df-quickchart\" onclick=\"quickchart('df-8d872e6d-fda4-4da7-84c8-9fcb99ca186f')\"\n",
              "            title=\"Suggest charts\"\n",
              "            style=\"display:none;\">\n",
              "\n",
              "<svg xmlns=\"http://www.w3.org/2000/svg\" height=\"24px\"viewBox=\"0 0 24 24\"\n",
              "     width=\"24px\">\n",
              "    <g>\n",
              "        <path d=\"M19 3H5c-1.1 0-2 .9-2 2v14c0 1.1.9 2 2 2h14c1.1 0 2-.9 2-2V5c0-1.1-.9-2-2-2zM9 17H7v-7h2v7zm4 0h-2V7h2v10zm4 0h-2v-4h2v4z\"/>\n",
              "    </g>\n",
              "</svg>\n",
              "  </button>\n",
              "\n",
              "<style>\n",
              "  .colab-df-quickchart {\n",
              "      --bg-color: #E8F0FE;\n",
              "      --fill-color: #1967D2;\n",
              "      --hover-bg-color: #E2EBFA;\n",
              "      --hover-fill-color: #174EA6;\n",
              "      --disabled-fill-color: #AAA;\n",
              "      --disabled-bg-color: #DDD;\n",
              "  }\n",
              "\n",
              "  [theme=dark] .colab-df-quickchart {\n",
              "      --bg-color: #3B4455;\n",
              "      --fill-color: #D2E3FC;\n",
              "      --hover-bg-color: #434B5C;\n",
              "      --hover-fill-color: #FFFFFF;\n",
              "      --disabled-bg-color: #3B4455;\n",
              "      --disabled-fill-color: #666;\n",
              "  }\n",
              "\n",
              "  .colab-df-quickchart {\n",
              "    background-color: var(--bg-color);\n",
              "    border: none;\n",
              "    border-radius: 50%;\n",
              "    cursor: pointer;\n",
              "    display: none;\n",
              "    fill: var(--fill-color);\n",
              "    height: 32px;\n",
              "    padding: 0;\n",
              "    width: 32px;\n",
              "  }\n",
              "\n",
              "  .colab-df-quickchart:hover {\n",
              "    background-color: var(--hover-bg-color);\n",
              "    box-shadow: 0 1px 2px rgba(60, 64, 67, 0.3), 0 1px 3px 1px rgba(60, 64, 67, 0.15);\n",
              "    fill: var(--button-hover-fill-color);\n",
              "  }\n",
              "\n",
              "  .colab-df-quickchart-complete:disabled,\n",
              "  .colab-df-quickchart-complete:disabled:hover {\n",
              "    background-color: var(--disabled-bg-color);\n",
              "    fill: var(--disabled-fill-color);\n",
              "    box-shadow: none;\n",
              "  }\n",
              "\n",
              "  .colab-df-spinner {\n",
              "    border: 2px solid var(--fill-color);\n",
              "    border-color: transparent;\n",
              "    border-bottom-color: var(--fill-color);\n",
              "    animation:\n",
              "      spin 1s steps(1) infinite;\n",
              "  }\n",
              "\n",
              "  @keyframes spin {\n",
              "    0% {\n",
              "      border-color: transparent;\n",
              "      border-bottom-color: var(--fill-color);\n",
              "      border-left-color: var(--fill-color);\n",
              "    }\n",
              "    20% {\n",
              "      border-color: transparent;\n",
              "      border-left-color: var(--fill-color);\n",
              "      border-top-color: var(--fill-color);\n",
              "    }\n",
              "    30% {\n",
              "      border-color: transparent;\n",
              "      border-left-color: var(--fill-color);\n",
              "      border-top-color: var(--fill-color);\n",
              "      border-right-color: var(--fill-color);\n",
              "    }\n",
              "    40% {\n",
              "      border-color: transparent;\n",
              "      border-right-color: var(--fill-color);\n",
              "      border-top-color: var(--fill-color);\n",
              "    }\n",
              "    60% {\n",
              "      border-color: transparent;\n",
              "      border-right-color: var(--fill-color);\n",
              "    }\n",
              "    80% {\n",
              "      border-color: transparent;\n",
              "      border-right-color: var(--fill-color);\n",
              "      border-bottom-color: var(--fill-color);\n",
              "    }\n",
              "    90% {\n",
              "      border-color: transparent;\n",
              "      border-bottom-color: var(--fill-color);\n",
              "    }\n",
              "  }\n",
              "</style>\n",
              "\n",
              "  <script>\n",
              "    async function quickchart(key) {\n",
              "      const quickchartButtonEl =\n",
              "        document.querySelector('#' + key + ' button');\n",
              "      quickchartButtonEl.disabled = true;  // To prevent multiple clicks.\n",
              "      quickchartButtonEl.classList.add('colab-df-spinner');\n",
              "      try {\n",
              "        const charts = await google.colab.kernel.invokeFunction(\n",
              "            'suggestCharts', [key], {});\n",
              "      } catch (error) {\n",
              "        console.error('Error during call to suggestCharts:', error);\n",
              "      }\n",
              "      quickchartButtonEl.classList.remove('colab-df-spinner');\n",
              "      quickchartButtonEl.classList.add('colab-df-quickchart-complete');\n",
              "    }\n",
              "    (() => {\n",
              "      let quickchartButtonEl =\n",
              "        document.querySelector('#df-8d872e6d-fda4-4da7-84c8-9fcb99ca186f button');\n",
              "      quickchartButtonEl.style.display =\n",
              "        google.colab.kernel.accessAllowed ? 'block' : 'none';\n",
              "    })();\n",
              "  </script>\n",
              "</div>\n",
              "\n",
              "    </div>\n",
              "  </div>\n"
            ],
            "application/vnd.google.colaboratory.intrinsic+json": {
              "type": "dataframe",
              "summary": "{\n  \"name\": \"df\",\n  \"rows\": 830,\n  \"fields\": [\n    {\n      \"column\": \"Unnamed: 0\",\n      \"properties\": {\n        \"dtype\": \"number\",\n        \"std\": 1542,\n        \"min\": 46,\n        \"max\": 5487,\n        \"num_unique_values\": 830,\n        \"samples\": [\n          3813,\n          2852,\n          1815\n        ],\n        \"semantic_type\": \"\",\n        \"description\": \"\"\n      }\n    },\n    {\n      \"column\": \"car_name\",\n      \"properties\": {\n        \"dtype\": \"string\",\n        \"num_unique_values\": 529,\n        \"samples\": [\n          \"Volvo XC60 D5 Inscription\",\n          \"Ford Figo Diesel EXI\",\n          \"Porsche Cayenne S Diesel\"\n        ],\n        \"semantic_type\": \"\",\n        \"description\": \"\"\n      }\n    },\n    {\n      \"column\": \"car_prices_in_rupee\",\n      \"properties\": {\n        \"dtype\": \"number\",\n        \"std\": 27701,\n        \"min\": 1,\n        \"max\": 99999,\n        \"num_unique_values\": 133,\n        \"samples\": [\n          60,\n          80902,\n          13\n        ],\n        \"semantic_type\": \"\",\n        \"description\": \"\"\n      }\n    },\n    {\n      \"column\": \"kms_driven\",\n      \"properties\": {\n        \"dtype\": \"number\",\n        \"std\": 39502,\n        \"min\": 900,\n        \"max\": 400000,\n        \"num_unique_values\": 240,\n        \"samples\": [\n          12000,\n          48894,\n          97767\n        ],\n        \"semantic_type\": \"\",\n        \"description\": \"\"\n      }\n    },\n    {\n      \"column\": \"fuel_type\",\n      \"properties\": {\n        \"dtype\": \"category\",\n        \"num_unique_values\": 5,\n        \"samples\": [\n          \"Petrol\",\n          \"Electric\",\n          \"Cng\"\n        ],\n        \"semantic_type\": \"\",\n        \"description\": \"\"\n      }\n    },\n    {\n      \"column\": \"transmission\",\n      \"properties\": {\n        \"dtype\": \"category\",\n        \"num_unique_values\": 2,\n        \"samples\": [\n          \"Manual\",\n          \"Automatic\"\n        ],\n        \"semantic_type\": \"\",\n        \"description\": \"\"\n      }\n    },\n    {\n      \"column\": \"ownership\",\n      \"properties\": {\n        \"dtype\": \"category\",\n        \"num_unique_values\": 6,\n        \"samples\": [\n          \"1st Owner\",\n          \"2nd Owner\"\n        ],\n        \"semantic_type\": \"\",\n        \"description\": \"\"\n      }\n    },\n    {\n      \"column\": \"manufacture\",\n      \"properties\": {\n        \"dtype\": \"number\",\n        \"std\": 5,\n        \"min\": 1998,\n        \"max\": 2022,\n        \"num_unique_values\": 25,\n        \"samples\": [\n          2020,\n          2004\n        ],\n        \"semantic_type\": \"\",\n        \"description\": \"\"\n      }\n    },\n    {\n      \"column\": \"engine\",\n      \"properties\": {\n        \"dtype\": \"category\",\n        \"num_unique_values\": 100,\n        \"samples\": [\n          \"1499 cc\",\n          \"999 cc\"\n        ],\n        \"semantic_type\": \"\",\n        \"description\": \"\"\n      }\n    },\n    {\n      \"column\": \"Seats\",\n      \"properties\": {\n        \"dtype\": \"category\",\n        \"num_unique_values\": 6,\n        \"samples\": [\n          \"5 Seats\",\n          \"4 Seats\"\n        ],\n        \"semantic_type\": \"\",\n        \"description\": \"\"\n      }\n    }\n  ]\n}"
            }
          },
          "metadata": {},
          "execution_count": 64
        }
      ]
    },
    {
      "cell_type": "code",
      "source": [
        "df.info()"
      ],
      "metadata": {
        "colab": {
          "base_uri": "https://localhost:8080/"
        },
        "id": "MWRTwwjCz3Td",
        "outputId": "29d485f3-89e3-49b8-d6ee-d550a7dd4425"
      },
      "execution_count": 68,
      "outputs": [
        {
          "output_type": "stream",
          "name": "stdout",
          "text": [
            "<class 'pandas.core.frame.DataFrame'>\n",
            "Index: 830 entries, 46 to 5487\n",
            "Data columns (total 10 columns):\n",
            " #   Column               Non-Null Count  Dtype \n",
            "---  ------               --------------  ----- \n",
            " 0   Unnamed: 0           830 non-null    int64 \n",
            " 1   car_name             830 non-null    object\n",
            " 2   car_prices_in_rupee  830 non-null    int64 \n",
            " 3   kms_driven           830 non-null    int64 \n",
            " 4   fuel_type            830 non-null    object\n",
            " 5   transmission         830 non-null    object\n",
            " 6   ownership            830 non-null    object\n",
            " 7   manufacture          830 non-null    int64 \n",
            " 8   engine               830 non-null    object\n",
            " 9   Seats                830 non-null    object\n",
            "dtypes: int64(4), object(6)\n",
            "memory usage: 71.3+ KB\n"
          ]
        }
      ]
    },
    {
      "cell_type": "code",
      "source": [
        "\n",
        "del df['Seats']"
      ],
      "metadata": {
        "id": "1M21vFLx1bcx"
      },
      "execution_count": 72,
      "outputs": []
    },
    {
      "cell_type": "code",
      "source": [
        "df.info()"
      ],
      "metadata": {
        "colab": {
          "base_uri": "https://localhost:8080/"
        },
        "id": "hYGPcD8H2N6w",
        "outputId": "91641291-082a-4280-89e3-269d028fedcb"
      },
      "execution_count": 76,
      "outputs": [
        {
          "output_type": "stream",
          "name": "stdout",
          "text": [
            "<class 'pandas.core.frame.DataFrame'>\n",
            "Index: 830 entries, 46 to 5487\n",
            "Data columns (total 9 columns):\n",
            " #   Column               Non-Null Count  Dtype \n",
            "---  ------               --------------  ----- \n",
            " 0   Unnamed: 0           830 non-null    int64 \n",
            " 1   car_name             830 non-null    object\n",
            " 2   car_prices_in_rupee  830 non-null    int64 \n",
            " 3   kms_driven           830 non-null    int64 \n",
            " 4   fuel_type            830 non-null    object\n",
            " 5   transmission         830 non-null    object\n",
            " 6   ownership            830 non-null    object\n",
            " 7   manufacture          830 non-null    int64 \n",
            " 8   engine               830 non-null    object\n",
            "dtypes: int64(4), object(5)\n",
            "memory usage: 64.8+ KB\n"
          ]
        }
      ]
    },
    {
      "cell_type": "code",
      "source": [
        "# Check if 'Unnamed' column exists\n",
        "if 'Unnamed' in df.columns:\n",
        "    # Delete the 'Unnamed' column\n",
        "    del df['Unnamed']\n",
        "else:\n",
        "    # Print a message if the column does not exist\n",
        "    print(\"Column 'Unnamed' does not exist in the DataFrame.\")\n",
        "\n",
        "# Print the DataFrame information\n",
        "df.info()"
      ],
      "metadata": {
        "colab": {
          "base_uri": "https://localhost:8080/"
        },
        "id": "bZ3nBJon3EU1",
        "outputId": "53edfe34-5be9-4551-bbfb-7dddd239f67a"
      },
      "execution_count": 80,
      "outputs": [
        {
          "output_type": "stream",
          "name": "stdout",
          "text": [
            "Column 'Unnamed' does not exist in the DataFrame.\n",
            "<class 'pandas.core.frame.DataFrame'>\n",
            "Index: 830 entries, 46 to 5487\n",
            "Data columns (total 8 columns):\n",
            " #   Column               Non-Null Count  Dtype \n",
            "---  ------               --------------  ----- \n",
            " 0   Unnamed: 0           830 non-null    int64 \n",
            " 1   car_name             830 non-null    object\n",
            " 2   car_prices_in_rupee  830 non-null    int64 \n",
            " 3   kms_driven           830 non-null    int64 \n",
            " 4   fuel_type            830 non-null    object\n",
            " 5   transmission         830 non-null    object\n",
            " 6   ownership            830 non-null    object\n",
            " 7   manufacture          830 non-null    int64 \n",
            "dtypes: int64(4), object(4)\n",
            "memory usage: 58.4+ KB\n"
          ]
        }
      ]
    },
    {
      "cell_type": "code",
      "source": [
        "del df['ownership']"
      ],
      "metadata": {
        "id": "-S85I0ta3uRy"
      },
      "execution_count": 84,
      "outputs": []
    },
    {
      "cell_type": "code",
      "source": [
        "df.info()"
      ],
      "metadata": {
        "colab": {
          "base_uri": "https://localhost:8080/"
        },
        "id": "sqtzEuO12qKV",
        "outputId": "ef0d5dca-e7b4-4aa3-e236-951316ef446a"
      },
      "execution_count": 85,
      "outputs": [
        {
          "output_type": "stream",
          "name": "stdout",
          "text": [
            "<class 'pandas.core.frame.DataFrame'>\n",
            "Index: 830 entries, 46 to 5487\n",
            "Data columns (total 7 columns):\n",
            " #   Column               Non-Null Count  Dtype \n",
            "---  ------               --------------  ----- \n",
            " 0   Unnamed: 0           830 non-null    int64 \n",
            " 1   car_name             830 non-null    object\n",
            " 2   car_prices_in_rupee  830 non-null    int64 \n",
            " 3   kms_driven           830 non-null    int64 \n",
            " 4   fuel_type            830 non-null    object\n",
            " 5   transmission         830 non-null    object\n",
            " 6   manufacture          830 non-null    int64 \n",
            "dtypes: int64(4), object(3)\n",
            "memory usage: 51.9+ KB\n"
          ]
        }
      ]
    },
    {
      "cell_type": "code",
      "source": [
        "df.shape"
      ],
      "metadata": {
        "colab": {
          "base_uri": "https://localhost:8080/"
        },
        "id": "2xqHkj7Z1utM",
        "outputId": "be71dc83-e2d8-4c11-b060-56e40a864240"
      },
      "execution_count": 73,
      "outputs": [
        {
          "output_type": "execute_result",
          "data": {
            "text/plain": [
              "(830, 9)"
            ]
          },
          "metadata": {},
          "execution_count": 73
        }
      ]
    },
    {
      "cell_type": "code",
      "source": [
        "X_train, X_test, y_train, y_test = train_test_split(df.iloc[:, :-1],\n",
        "                                                    df.iloc[:, -1],\n",
        "                                                    test_size = 0.3,\n",
        "                                                    random_state = 42)"
      ],
      "metadata": {
        "id": "VY32F6uZ8lzu"
      },
      "execution_count": 87,
      "outputs": []
    },
    {
      "cell_type": "code",
      "source": [
        "X_train.info()\n"
      ],
      "metadata": {
        "colab": {
          "base_uri": "https://localhost:8080/"
        },
        "id": "znWu136J87d3",
        "outputId": "0eb38ec6-6a36-4bbc-f69e-3fbdbe26557e"
      },
      "execution_count": 88,
      "outputs": [
        {
          "output_type": "stream",
          "name": "stdout",
          "text": [
            "<class 'pandas.core.frame.DataFrame'>\n",
            "Index: 581 entries, 1027 to 837\n",
            "Data columns (total 6 columns):\n",
            " #   Column               Non-Null Count  Dtype \n",
            "---  ------               --------------  ----- \n",
            " 0   Unnamed: 0           581 non-null    int64 \n",
            " 1   car_name             581 non-null    object\n",
            " 2   car_prices_in_rupee  581 non-null    int64 \n",
            " 3   kms_driven           581 non-null    int64 \n",
            " 4   fuel_type            581 non-null    object\n",
            " 5   transmission         581 non-null    object\n",
            "dtypes: int64(3), object(3)\n",
            "memory usage: 31.8+ KB\n"
          ]
        }
      ]
    },
    {
      "cell_type": "code",
      "source": [
        "X_train = X_train.iloc[:, 1:]\n",
        "X_test = X_test.iloc[:, 1:]"
      ],
      "metadata": {
        "id": "5KZMsPN09ObV"
      },
      "execution_count": 89,
      "outputs": []
    },
    {
      "cell_type": "code",
      "source": [
        "X_train[\"car_name\"].value_counts()"
      ],
      "metadata": {
        "colab": {
          "base_uri": "https://localhost:8080/"
        },
        "id": "l-q5LCp39UnU",
        "outputId": "b7cd5599-1143-4cc0-d4d2-c526c67e034f"
      },
      "execution_count": 92,
      "outputs": [
        {
          "output_type": "execute_result",
          "data": {
            "text/plain": [
              "car_name\n",
              "BMW 5 Series 520d Luxury Line               10\n",
              "BMW X5 xDrive 30d xLine                      7\n",
              "Mercedes-Benz GLE 250d                       6\n",
              "Jaguar XF 2.0 Petrol Prestige                6\n",
              "Mercedes-Benz C-Class Progressive C 220d     6\n",
              "                                            ..\n",
              "Ford Figo 1.5D Base MT                       1\n",
              "Mahindra Marazzo M8 8Str                     1\n",
              "Hyundai i20 Asta 1.4 CRDi (Diesel)           1\n",
              "Maruti Wagon R LX Minor Duo LPG              1\n",
              "Mercedes-Benz GLA Class 200                  1\n",
              "Name: count, Length: 400, dtype: int64"
            ]
          },
          "metadata": {},
          "execution_count": 92
        }
      ]
    },
    {
      "cell_type": "code",
      "source": [
        "make_train = X_train[\"car_name\"].str.split(\" \", expand = True)\n",
        "make_test = X_test[\"car_name\"].str.split(\" \", expand = True)"
      ],
      "metadata": {
        "id": "jM1VYP_H9ttV"
      },
      "execution_count": 93,
      "outputs": []
    },
    {
      "cell_type": "code",
      "source": [
        "X_train[\"manufacturer\"] = make_train[0]\n",
        "X_test[\"manufacturer\"] = make_test[0]"
      ],
      "metadata": {
        "id": "3i31IOQF97mY"
      },
      "execution_count": 94,
      "outputs": []
    },
    {
      "cell_type": "code",
      "source": [
        "# Check if the variable 'Manufacturer' exists in the X_train DataFrame\n",
        "if 'Manufacturer' not in X_train.columns:\n",
        "    # If the variable does not exist, create it\n",
        "    X_train[\"Manufacturer\"] = make_train[0]\n",
        "    X_test[\"Manufacturer\"] = make_test[0]\n",
        "\n",
        "# Plot the count of cars based on manufacturers\n",
        "plt.figure(figsize = (12, 8))\n",
        "plot = sns.countplot(x = 'Manufacturer', data = X_train)\n",
        "plt.xticks(rotation = 90)\n",
        "for p in plot.patches:\n",
        "    plot.annotate(p.get_height(),\n",
        "                        (p.get_x() + p.get_width() / 2.0,\n",
        "                         p.get_height()),\n",
        "                        ha = 'center',\n",
        "                        va = 'center',\n",
        "                        xytext = (0, 5),\n",
        "                        textcoords = 'offset points')\n",
        "\n",
        "plt.title(\"Count of cars based on manufacturers\")\n",
        "plt.xlabel(\"Manufacturer\")\n",
        "plt.ylabel(\"Count of cars\")"
      ],
      "metadata": {
        "colab": {
          "base_uri": "https://localhost:8080/",
          "height": 560
        },
        "id": "8dDS2Uhc9_k4",
        "outputId": "faa8a71e-4166-4215-b31c-d3b6d17c423a"
      },
      "execution_count": null,
      "outputs": [
        {
          "output_type": "execute_result",
          "data": {
            "text/plain": [
              "Text(0, 0.5, 'Count of cars')"
            ]
          },
          "metadata": {},
          "execution_count": 25
        },
        {
          "output_type": "display_data",
          "data": {
            "text/plain": [
              "<Figure size 1200x800 with 1 Axes>"
            ],
            "image/png": "[encoded data removed]"
          },
          "metadata": {}
        }
      ]
    },
    {
      "cell_type": "code",
      "source": [
        "# Change the variable name to 'kms_driven'\n",
        "X_train[\"kms_driven\"]"
      ],
      "metadata": {
        "colab": {
          "base_uri": "https://localhost:8080/"
        },
        "id": "luDGhzgcAiy6",
        "outputId": "64a88fa2-a0e0-4705-8d75-41f92f115d17"
      },
      "execution_count": 95,
      "outputs": [
        {
          "output_type": "execute_result",
          "data": {
            "text/plain": [
              "1027    120426\n",
              "1907     90000\n",
              "1547     12023\n",
              "1486     20000\n",
              "5463     85002\n",
              "         ...  \n",
              "523      52481\n",
              "853       7500\n",
              "1769     15000\n",
              "2763     26000\n",
              "837      49000\n",
              "Name: kms_driven, Length: 581, dtype: int64"
            ]
          },
          "metadata": {},
          "execution_count": 95
        }
      ]
    },
    {
      "cell_type": "code",
      "source": [
        "df.info()"
      ],
      "metadata": {
        "colab": {
          "base_uri": "https://localhost:8080/"
        },
        "id": "lBECU6vx5yvn",
        "outputId": "dfa620a4-3357-4211-87ac-2c499f3d859f"
      },
      "execution_count": 96,
      "outputs": [
        {
          "output_type": "stream",
          "name": "stdout",
          "text": [
            "<class 'pandas.core.frame.DataFrame'>\n",
            "Index: 830 entries, 46 to 5487\n",
            "Data columns (total 7 columns):\n",
            " #   Column               Non-Null Count  Dtype \n",
            "---  ------               --------------  ----- \n",
            " 0   Unnamed: 0           830 non-null    int64 \n",
            " 1   car_name             830 non-null    object\n",
            " 2   car_prices_in_rupee  830 non-null    int64 \n",
            " 3   kms_driven           830 non-null    int64 \n",
            " 4   fuel_type            830 non-null    object\n",
            " 5   transmission         830 non-null    object\n",
            " 6   manufacture          830 non-null    int64 \n",
            "dtypes: int64(4), object(3)\n",
            "memory usage: 51.9+ KB\n"
          ]
        }
      ]
    }
  ]
}